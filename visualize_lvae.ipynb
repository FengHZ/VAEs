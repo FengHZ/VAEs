{
 "cells": [
  {
   "cell_type": "code",
   "execution_count": 2,
   "metadata": {},
   "outputs": [],
   "source": [
    "import torch\n",
    "import matplotlib.pyplot as plt\n",
    "import numpy as np\n",
    "import os\n",
    "from codebase import utils as ut\n",
    "from codebase.models.lvae import LVAE\n",
    "import torchvision.utils as tvut"
   ]
  },
  {
   "cell_type": "code",
   "execution_count": 9,
   "metadata": {},
   "outputs": [],
   "source": [
    "lvae = LVAE(nn='v3',name='model=lvae_layer1_dim=512_layer2_dim=256_latent1_dim=0064_latent2_dim=0032_run=0000', in_dim=784, \n",
    "    layer1_dim=512, layer2_dim=256, latent1_dim=64, latent2_dim=32)\n",
    "\n",
    "file_path = os.path.join('checkpoints',\n",
    "                        'model=lvae_layer1_dim=512_layer2_dim=256_latent1_dim=0064_latent2_dim=0032_run=0000',\n",
    "                        'model-00000.pt')\n",
    "state = torch.load(file_path)\n",
    "lvae.load_state_dict(state)\n",
    "\n",
    "\n",
    "\n"
   ]
  },
  {
   "cell_type": "code",
   "execution_count": 10,
   "metadata": {},
   "outputs": [],
   "source": [
    "z_prior_m = torch.nn.Parameter(torch.zeros(1), requires_grad=False)\n",
    "z_prior_v = torch.nn.Parameter(torch.ones(1), requires_grad=False)\n",
    "z_prior = (z_prior_m, z_prior_v)"
   ]
  },
  {
   "cell_type": "code",
   "execution_count": 11,
   "metadata": {},
   "outputs": [],
   "source": [
    "sample_z = ut.sample_gaussian(z_prior[0].expand(200, 32), z_prior[1].expand(200,32))"
   ]
  },
  {
   "cell_type": "code",
   "execution_count": 12,
   "metadata": {},
   "outputs": [],
   "source": [
    "logits,_,_ = lvae.Decoder(sample_z)\n",
    "compute_sigmoid_given = torch.sigmoid(logits)"
   ]
  },
  {
   "cell_type": "code",
   "execution_count": 13,
   "metadata": {},
   "outputs": [],
   "source": [
    "sample_x_given = torch.bernoulli(compute_sigmoid_given)"
   ]
  },
  {
   "cell_type": "code",
   "execution_count": 14,
   "metadata": {},
   "outputs": [],
   "source": [
    "tvut.save_image(sample_x_given.reshape(200, 1, 28, 28), '/Users/DivyanshuMurli1/Desktop/lvae_sample_0epochs.png', 20)"
   ]
  },
  {
   "cell_type": "code",
   "execution_count": null,
   "metadata": {},
   "outputs": [],
   "source": []
  }
 ],
 "metadata": {
  "kernelspec": {
   "display_name": "Python 3",
   "language": "python",
   "name": "python3"
  },
  "language_info": {
   "codemirror_mode": {
    "name": "ipython",
    "version": 3
   },
   "file_extension": ".py",
   "mimetype": "text/x-python",
   "name": "python",
   "nbconvert_exporter": "python",
   "pygments_lexer": "ipython3",
   "version": "3.6.6"
  }
 },
 "nbformat": 4,
 "nbformat_minor": 2
}
